{
 "cells": [
  {
   "cell_type": "markdown",
   "metadata": {},
   "source": [
    "# Read data from azure storage"
   ]
  },
  {
   "cell_type": "code",
   "execution_count": null,
   "metadata": {},
   "outputs": [],
   "source": [
    "service_credential = dbutils.secrets.get(scope=\"key_vault_scope\",key=\"service-credential-key\")\n",
    "\n",
    "spark.conf.set(\"fs.azure.account.auth.type.minedata.dfs.core.windows.net\", \"OAuth\")\n",
    "spark.conf.set(\"fs.azure.account.oauth.provider.type.minedata.dfs.core.windows.net\", \"org.apache.hadoop.fs.azurebfs.oauth2.ClientCredsTokenProvider\")\n",
    "spark.conf.set(\"fs.azure.account.oauth2.client.id.minedata.dfs.core.windows.net\", \"fec6b5a7-ad07-45e2-b61b-dc037c92904f\")\n",
    "spark.conf.set(\"fs.azure.account.oauth2.client.secret.minedata.dfs.core.windows.net\", service_credential)\n",
    "spark.conf.set(\"fs.azure.account.oauth2.client.endpoint.minedata.dfs.core.windows.net\", \"https://login.microsoftonline.com/3417d36b-fa61-4b84-b95e-8414a4e5753f/oauth2/token\")\n",
    "df = spark.read.csv(\"abfss://miningdata@minedata.dfs.core.windows.net/MiningProcess_Flotation_Plant_Database.csv\")"
   ]
  },
  {
   "cell_type": "code",
   "execution_count": null,
   "metadata": {},
   "outputs": [],
   "source": []
  }
 ],
 "metadata": {
  "language_info": {
   "name": "python"
  },
  "orig_nbformat": 4
 },
 "nbformat": 4,
 "nbformat_minor": 2
}
