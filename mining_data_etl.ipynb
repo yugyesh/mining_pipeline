{
 "cells": [
  {
   "cell_type": "markdown",
   "metadata": {},
   "source": [
    "# Read data from azure storage"
   ]
  },
  {
   "cell_type": "code",
   "execution_count": null,
   "metadata": {},
   "outputs": [],
   "source": [
    "service_credential = dbutils.secrets.get(scope=\"key_vault_scope\",key=\"service-credential-key\")\n",
    "\n",
    "spark.conf.set(\"fs.azure.account.auth.type.minedata.dfs.core.windows.net\", \"OAuth\")\n",
    "spark.conf.set(\"fs.azure.account.oauth.provider.type.minedata.dfs.core.windows.net\", \"org.apache.hadoop.fs.azurebfs.oauth2.ClientCredsTokenProvider\")\n",
    "spark.conf.set(\"fs.azure.account.oauth2.client.id.minedata.dfs.core.windows.net\", \"fec6b5a7-ad07-45e2-b61b-dc037c92904f\")\n",
    "spark.conf.set(\"fs.azure.account.oauth2.client.secret.minedata.dfs.core.windows.net\", service_credential)\n",
    "spark.conf.set(\"fs.azure.account.oauth2.client.endpoint.minedata.dfs.core.windows.net\", \"https://login.microsoftonline.com/3417d36b-fa61-4b84-b95e-8414a4e5753f/oauth2/token\")\n",
    "df = spark.read.csv(\"abfss://miningdata@minedata.dfs.core.windows.net/MiningProcess_Flotation_Plant_Database.csv\")"
   ]
  },
  {
   "cell_type": "code",
   "execution_count": 22,
   "metadata": {},
   "outputs": [],
   "source": [
    "import pandas as pd\n",
    "import numpy as np"
   ]
  },
  {
   "cell_type": "code",
   "execution_count": 27,
   "metadata": {},
   "outputs": [],
   "source": [
    "df = pd.read_csv(filepath_or_buffer=\"./MiningProcess_Flotation_Plant_Database_1.csv\")"
   ]
  },
  {
   "cell_type": "code",
   "execution_count": 24,
   "metadata": {},
   "outputs": [],
   "source": [
    "df1, df2 = np.array_split(df, 2)"
   ]
  },
  {
   "cell_type": "code",
   "execution_count": 25,
   "metadata": {},
   "outputs": [],
   "source": [
    "total = len(df1) + len(df2) "
   ]
  },
  {
   "cell_type": "code",
   "execution_count": 26,
   "metadata": {},
   "outputs": [
    {
     "name": "stdout",
     "output_type": "stream",
     "text": [
      "368727\n",
      "368727\n"
     ]
    }
   ],
   "source": [
    "print(total)\n",
    "print(len(df))"
   ]
  },
  {
   "cell_type": "code",
   "execution_count": 15,
   "metadata": {},
   "outputs": [],
   "source": [
    "df.to_csv(\"./MiningProcess_Flotation_Plant_Database_3.csv\")"
   ]
  },
  {
   "cell_type": "code",
   "execution_count": 16,
   "metadata": {},
   "outputs": [],
   "source": [
    "df2.to_csv(\"./MiningProcess_Flotation_Plant_Database_2.csv\")"
   ]
  }
 ],
 "metadata": {
  "kernelspec": {
   "display_name": "Python 3.9.12 ('ai')",
   "language": "python",
   "name": "python3"
  },
  "language_info": {
   "codemirror_mode": {
    "name": "ipython",
    "version": 3
   },
   "file_extension": ".py",
   "mimetype": "text/x-python",
   "name": "python",
   "nbconvert_exporter": "python",
   "pygments_lexer": "ipython3",
   "version": "3.9.12"
  },
  "orig_nbformat": 4,
  "vscode": {
   "interpreter": {
    "hash": "c25bd447a48d8871a14519a6ec6f211b3fd2d70e578511719b59c4ee2f106344"
   }
  }
 },
 "nbformat": 4,
 "nbformat_minor": 2
}
